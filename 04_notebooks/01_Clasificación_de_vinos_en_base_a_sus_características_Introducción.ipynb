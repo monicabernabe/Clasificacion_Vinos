{
  "nbformat": 4,
  "nbformat_minor": 0,
  "metadata": {
    "colab": {
      "provenance": [],
      "toc_visible": true
    },
    "kernelspec": {
      "name": "python3",
      "display_name": "Python 3"
    },
    "language_info": {
      "name": "python"
    }
  },
  "cells": [
    {
      "cell_type": "markdown",
      "source": [
        "#**CLASIFICACIÓN DE VINOS EN BASE A SUS CARACTERÍSTICAS**"
      ],
      "metadata": {
        "id": "rmCxTn0kX3Vu"
      }
    },
    {
      "cell_type": "markdown",
      "source": [
        "##**1. Marco del problema:**"
      ],
      "metadata": {
        "id": "3rCAb9F4owNc"
      }
    },
    {
      "cell_type": "markdown",
      "source": [
        "###**1.1. Objetivo del proyecto:**\n",
        "\n",
        "El presente proyecto de Machine Learning se centra en analizar un conjunto de datos que describen las características químicas de diversas muestras de vino.\n",
        "\n",
        "El objetivo principal es explorar la estructura de estos datos, buscando identificar patrones y posibles agrupaciones entre las muestras basándose en la similitud de sus 13 componentes químicos (Alcohol, Ácido málico, Ceniza, Alcalinidad de la ceniza, Magnesio, Fenoles totales, Flavonoides, Fenoles no flavonoides, Proantocianinas, Intensidad del color, Tono, OD280/OD315 de vinos diluidos 1  y Prolina).\n",
        "\n",
        "Los beneficios clave que se espera obtener son:\n",
        "\n",
        "- **Identificación de similitudes entre vinos**: El modelo permitirá identificar qué vinos comparten perfiles químicos similares.\n",
        "- **Descubrimiento de patrones**: Se podrán revelar relaciones y estructuras dentro de los datos que no son evidentes a simple vista.\n",
        "- **Segmentación de las muestras**: El modelo podría permitir segmentar las muestras de vino en distintos grupos basados en sus características químicas.\n",
        "- **Generación de información valiosa**: Se obtendrá una comprensión más profunda de cómo se relacionan las diferentes características químicas entre sí y cómo definen los distintos grupos de muestras.\n",
        "- **Base para análisis futuros**: Los resultados del modelo podrán servir como punto de partida para investigaciones más específicas sobre las propiedades y la calidad de los vinos.\n",
        "\n",
        "En resumen, este proyecto no solo facilitará la comprensión de las relaciones entre las características químicas de los vinos, sino que también mejorará la capacidad para identificar grupos de vinos con perfiles similares y tomar decisiones informadas basadas en la composición química de las muestras.\n",
        "\n",
        "\n",
        "\n"
      ],
      "metadata": {
        "id": "Z5dkOeSgD623"
      }
    },
    {
      "cell_type": "markdown",
      "source": [
        "###**1.2.Tipo de problema:**\n",
        "\n",
        "Este es un problema de **aprendizaje no supervisado**, dado que el conjunto de datos no incluye etiquetas que definan la calidad del vino en base a su composición.\n",
        "\n",
        "Se trata, por tanto, de un problema de **clustering**, en el que se pretende agrupar los vinos basándose en la similitud de sus características químicas."
      ],
      "metadata": {
        "id": "hTovzxRxHMDf"
      }
    },
    {
      "cell_type": "markdown",
      "source": [
        "###**1.3. Fuente de los datos:**\n",
        "\n",
        "Los datos utilizados en este proyecto provienen de Kaggle y están disponibles públicamente para su uso.\n",
        "\n",
        "Al ser un conjunto de datos abierto, no se requieren autorizaciones ni permisos especiales para su acceso o procesamiento.\n",
        "\n",
        "Además, su uso en este proyecto es completamente legal y cumple con las condiciones establecidas por la plataforma.\n",
        "\n",
        "El tamaño del archivo es de 11 kB.\n",
        "\n",
        "https://www.kaggle.com/datasets/harrywang/wine-dataset-for-clustering"
      ],
      "metadata": {
        "id": "imxEWHmHLU7w"
      }
    },
    {
      "cell_type": "markdown",
      "source": [
        "###**1.4. Decripción del dataset:**\n",
        "\n",
        "Este conjunto de datos es una adaptación del \"Wine Data Set\" de https://archive.ics.uci.edu/ml/datasets/wine al eliminar la información sobre los tipos de vino para el aprendizaje no supervisado.\n",
        "\n",
        "Estos datos son los resultados de un análisis químico de vinos cultivados en la misma región de Italia, pero derivados de tres cultivares 1 diferentes. El análisis determinó las cantidades de 13 constituyentes encontrados en cada uno de los tres tipos de vinos.\n",
        "\n",
        "Los atributos del dataset son los siguientes (Las siguientes descripciones son adaptadas de la página web de la UCI):\n",
        "\n",
        "- **Alcohol**: Porcentaje de alcohol etílico presente en el vino (expresado como volumen por volumen).\n",
        "\n",
        "    - Influencia en la calidad: El alcohol contribuye al cuerpo, la textura y la sensación en boca del vino. Un nivel adecuado es crucial para el equilibrio.\n",
        "\n",
        "      - Alto alcohol: Puede dar una sensación de calidez, plenitud y, en exceso, aspereza.\n",
        "\n",
        "    - Bajo alcohol: Puede resultar en un vino ligero, delgado y, a veces, desequilibrado.\n",
        "\n",
        "  - Influencia en el sabor: Aporta dulzor, redondez y sensación térmica.\n",
        "\n",
        "  - Influencia en el color: Indirecta, ya que influye en la extracción de pigmentos durante la fermentación.\n",
        "\n",
        "  - Rangos típicos: Generalmente entre 8% y 15% por volumen (ABV). Vinos de postre fortificados pueden ser más altos (16-20%).\n",
        "\n",
        "- **Malic acid (Ácido málico)**: Uno de los principales ácidos orgánicos encontrados en las uvas. Su concentración disminuye durante la maduración de la uva y la fermentación maloláctica.\n",
        "\n",
        "  - Influencia en la calidad: Aporta acidez y frescura al vino.\n",
        "\n",
        "    - Alto ácido málico: Puede dar un sabor verde, agrio y áspero. Es característico de vinos jóvenes o de climas fríos.\n",
        "\n",
        "    - Bajo ácido málico: Resulta en un vino más suave y menos ácido. La fermentación maloláctica convierte el ácido málico en ácido láctico, más suave.\n",
        "\n",
        "  - Influencia en el sabor: Muy alta, determina la acidez percibida.\n",
        "\n",
        "  - Influencia en el color: Indirecta, ya que un pH más bajo puede estabilizar los pigmentos del vino.\n",
        "\n",
        "  - Rangos típicos: En mosto de uva pueden estar entre 1 y 10 g/L. En vino, después de la fermentación (especialmente la maloláctica), puede ser mucho más bajo, incluso por debajo de 0.5 g/L en algunos casos, hasta alrededor de 4 g/L en vinos más ácidos.\n",
        "\n",
        "- **Ash (Ceniza)**: Residuo inorgánico que queda después de quemar el vino. Representa la concentración total de minerales presentes.\n",
        "\n",
        "  - Influencia en la calidad: La ceniza, en sí misma, no es un indicador directo de calidad percibida. Sin embargo, su composición (tipos y proporciones de minerales) puede influir en el sabor y la estabilidad del vino.\n",
        "\n",
        "    - Niveles inusualmente altos podrían indicar problemas en el proceso de producción o el origen de las uvas.\n",
        "\n",
        "  - Influencia en el sabor: Puede aportar cierta complejidad y estructura mineral.\n",
        "\n",
        "  - Rangos típicos: Los valores suelen estar entre 1.5 y 3.5 g/L. Representa el contenido mineral total.\n",
        "\n",
        "- **Alcalinity of ash (Alcalinidad de la ceniza)**: Medida de la capacidad de la ceniza para neutralizar ácidos. Se relaciona con la presencia de carbonatos y otros compuestos alcalinos.\n",
        "\n",
        "  - Influencia en la calidad: Indirectamente, influye en la acidez percibida del vino.\n",
        "\n",
        "    - Una alta alcalinidad puede contrarrestar la acidez, dando una sensación más suave.\n",
        "\n",
        "    - El equilibrio entre acidez y alcalinidad es importante para la armonía del vino.\n",
        "\n",
        "  - Influencia en el sabor: Relacionada con la sensación de suavidad o aspereza.\n",
        "\n",
        "  - Rangos típicos: Típicamente entre 5 y 15 meq/L.\n",
        "\n",
        "- **Magnesium (Magnesio)**: Un mineral esencial presente en las uvas y, por lo tanto, en el vino.\n",
        "\n",
        "  - Influencia en la calidad: El magnesio contribuye a diversas reacciones bioquímicas durante la fermentación y puede influir en el sabor.\n",
        "\n",
        "    - Se considera un componente importante para la salud de la levadura y la estabilidad del vino.\n",
        "\n",
        "  - Influencia en el sabor: Potencialmente afecta la percepción de amargor y mineralidad.\n",
        "\n",
        "  - Rangos típicos: Los niveles en el vino suelen estar entre 50 y 200 mg/L.\n",
        "\n",
        "- **Total phenols (Fenoles totales)**: Grupo de compuestos químicos presentes en la piel, las semillas y los tallos de la uva. Incluyen antocianos (pigmentos rojos), taninos y otros compuestos fenólicos.\n",
        "\n",
        "  - Influencia en la calidad: Los fenoles son cruciales para el color, la estructura (taninos que aportan astringencia y cuerpo) y el potencial de envejecimiento del vino. También contribuyen al sabor y aroma (notas especiadas, ahumadas, etc.).\n",
        "\n",
        "    - Alto contenido de fenoles: Generalmente se asocia con vinos más estructurados, con mayor capacidad de envejecimiento y, en vinos tintos, con un color más intenso.\n",
        "\n",
        "    - Bajo contenido de fenoles: Resulta en vinos más ligeros, con menos estructura y menor potencial de envejecimiento.\n",
        "\n",
        "  - Influencia en el sabor: Alta, aporta complejidad, amargor y astringencia.\n",
        "\n",
        "  - Influencia en el color: Muy alta, especialmente en vinos tintos.\n",
        "\n",
        "  - Rangos típicos: Debido a la ausencia de información específica sobre las unidades de medida utilizadas en el análisis químico original para estos atributos, no es posible establecer un rango de valores considerado como 'normal' en términos absolutos o compararlos con rangos típicos de la literatura científica.\n",
        "\n",
        "- **Flavanoids (Flavonoides)**: Un subgrupo de los fenoles, importantes antioxidantes que contribuyen al color (especialmente en vinos blancos y rosados) y a la estructura del vino (taninos, aunque en menor medida que otros fenoles).\n",
        "\n",
        "  - Influencia en la calidad: Similar a los fenoles totales, influyen en el color, la astringencia y el potencial antioxidante del vino.\n",
        "\n",
        "  - Influencia en el sabor: Astringencia, amargor, estructura.\n",
        "\n",
        "  - Influencia en el color: Contribuyen al color y a su estabilidad.\n",
        "\n",
        "  - Rangos típicos: Debido a la ausencia de información específica sobre las unidades de medida utilizadas en el análisis químico original para estos atributos, no es posible establecer un rango de valores considerado como 'normal' en términos absolutos o compararlos con rangos típicos de la literatura científica.\n",
        "\n",
        "- **Nonflavanoid phenols (Fenoles no flavonoides)**: Otro subgrupo de los fenoles, que incluye ácidos fenólicos y otros compuestos.\n",
        "\n",
        "  - Influencia en la calidad: Contribuyen al sabor, aroma y estabilidad del vino. Algunos pueden tener efectos antioxidantes.\n",
        "\n",
        "  - Influencia en el sabor: Aportan notas amargas y terrosas.\n",
        "\n",
        "  - Influencia en el color: Menor que los flavonoides, pero pueden intervenir en la oxidación del color.\n",
        "\n",
        "  - Rangos típicos: Debido a la ausencia de información específica sobre las unidades de medida utilizadas en el análisis químico original para estos atributos, no es posible establecer un rango de valores considerado como 'normal' en términos absolutos o compararlos con rangos típicos de la literatura científica.\n",
        "\n",
        "- **Proanthocyanins (Proantocianidinas)**: Polímeros de flavonoides, un tipo específico de tanino que se encuentra en la piel y las semillas de la uva.\n",
        "\n",
        "  - Influencia en la calidad: Son responsables de la astringencia (sensación de sequedad en boca) y contribuyen al cuerpo y la estructura del vino tinto. También juegan un papel en la polimerización de los pigmentos y la estabilidad del color durante el envejecimiento.\n",
        "\n",
        "  - Influencia en el sabor: Alta, especialmente en la percepción de astringencia.\n",
        "\n",
        "  - Influencia en el color: Ayudan a fijar el color en el vino envejecido.\n",
        "\n",
        "  - Rangos típicos: Debido a la ausencia de información específica sobre las unidades de medida utilizadas en el análisis químico original para estos atributos, no es posible establecer un rango de valores considerado como 'normal' en términos absolutos o compararlos con rangos típicos de la literatura científica.\n",
        "\n",
        "- **Color intensity (Intensidad del color)**: Medida de la profundidad del color del vino, generalmente determinada espectrofotométricamente.\n",
        "\n",
        "  - Influencia en la calidad:\n",
        "\n",
        "    - En vinos tintos, una mayor intensidad de color a menudo se asocia con una mayor concentración de pigmentos y, potencialmente, con vinos más ricos y concentrados.\n",
        "\n",
        "    - En vinos blancos y rosados, la intensidad del color puede indicar la variedad de uva, la edad o el método de producción.\n",
        "\n",
        "  - Influencia en el sabor: No directa, pero puede estar asociada con concentración y estructura.\n",
        "\n",
        "  - Influencia en el color: Es una medida directa del mismo.\n",
        "\n",
        "  - Rangos típicos: Generalmente, los vinos tintos tienen valores más altos que los blancos o rosados. Los valores pueden estar en un rango amplio, por ejemplo, de 1 a 15 o más unidades arbitrarias.\n",
        "\n",
        "- **Hue (Tono)**: Describe el matiz o la tonalidad del color del vino (por ejemplo, rojo rubí, púrpura, amarillo dorado).\n",
        "\n",
        "  - Influencia en la calidad: El tono puede dar información sobre la edad del vino (los tintos jóvenes tienden a tener tonos más púrpuras, mientras que los más viejos pueden tener tonos teja o ladrillo; los blancos jóvenes pueden ser amarillo pálido con reflejos verdosos, mientras que los más evolucionados tienden a ser dorados). También puede ser característico de ciertas variedades de uva.\n",
        "\n",
        "  - Influencia en el color: Es una medida de la tonalidad del color.\n",
        "\n",
        "  - Influencia en el sabor: Indirectamente, se asocia con la evolución del vino.\n",
        "\n",
        "  - Rangos típicos: También es una medida instrumental del color, relacionada con el matiz. Los valores suelen estar entre 0.9 y 1.5 para vinos jóvenes rojos, tendiendo a bajar con la edad. Los blancos y rosados tendrán rangos diferentes.\n",
        "\n",
        "- **OD280/OD315 of diluted wines**: Medida de la absorbancia óptica del vino diluido a dos longitudes de onda específicas (280 nm y 315 nm) utilizando un espectrofotómetro. Esta medida se utiliza a menudo como un indicador del contenido fenólico total y la concentración de ciertos compuestos aromáticos.\n",
        "\n",
        "  - Influencia en la calidad: Un valor más alto generalmente indica una mayor concentración de compuestos fenólicos, que contribuyen al color, la estructura y el potencial antioxidante del vino.\n",
        "\n",
        "  - Influencia en el sabor: Correlación con la intensidad fenólica y la complejidad.\n",
        "\n",
        "  - Influencia en el color: Alta, ya que los fenoles impactan directamente en la intensidad y estabilidad del color.\n",
        "\n",
        "  - Rangos típicos: Los valores típicos podrían estar entre 1.5 y 4.0.\n",
        "\n",
        "- **Proline**: Un aminoácido presente en altas concentraciones en el vino.\n",
        "\n",
        "  - Influencia en la calidad: La prolina no se considera que contribuya directamente al sabor o aroma del vino, ya que no es metabólicamente activa por las levaduras durante la fermentación. Sin embargo, su concentración puede estar relacionada con la variedad de uva, las condiciones de cultivo y el nivel de madurez de la uva. Algunos estudios sugieren una posible correlación indirecta con la calidad en ciertos casos.\n",
        "\n",
        "  - Influencia en el sabor: Baja o nula directamente, pero puede asociarse a características varietales.\n",
        "\n",
        "  - Influencia en el color: Indirecta, si contribuye a la madurez y concentración del mosto.\n",
        "\n",
        "  - Rangos típicos: Los niveles en el vino pueden variar ampliamente, desde unos 100 mg/L hasta más de 1000 mg/L.\n",
        "\n",
        "\n",
        "El análisis se centrará en la identificación de patrones y agrupaciones basadas en la variabilidad relativa de estas características dentro del conjunto de datos proporcionado, sin realizar juicios sobre si los valores son 'altos' o 'bajos' en un sentido absoluto."
      ],
      "metadata": {
        "id": "cjUAoYyFLuSQ"
      }
    },
    {
      "cell_type": "markdown",
      "source": [
        "###**1.5. Suposiciones iniciales:**\n",
        "\n",
        "\n",
        "- Precisión de los datos químicos: Se asume que los datos del análisis químico de los vinos son precisos y representan fielmente la composición de cada muestra. Se espera que los valores no contengan errores de medición significativos ni inconsistencias en el proceso de análisis.\n",
        "\n",
        "- Relevancia de las características químicas: Se supone que las 13 características químicas seleccionadas son relevantes para distinguir las diferentes muestras de vino y que las posibles agrupaciones se manifestarán en función de las variaciones en estas composiciones.\n",
        "\n",
        "- Homogeneidad en el origen geográfico: Dado que los vinos provienen de la misma región en Italia, se asume cierta homogeneidad en las condiciones de cultivo y producción que podrían influir en la composición química, aunque se reconoce la variación debida a los diferentes cultivares.\n",
        "\n",
        "- Representatividad de las muestras: Se asume que las muestras analizadas son representativas de la diversidad de vinos producidos a partir de los tres cultivares en esa región específica.\n",
        "\n",
        "- Significado de las agrupaciones: Se espera que la identificación de agrupaciones basadas en la composición química revele diferencias subyacentes significativas entre los vinos, aunque inicialmente no se conozca la naturaleza exacta de estas diferencias (por ejemplo, relacionadas con el cultivar, el proceso de vinificación u otras variables no incluidas en el dataset)."
      ],
      "metadata": {
        "id": "ONJ4HmqKOFro"
      }
    },
    {
      "cell_type": "markdown",
      "source": [
        "###**1.6. Medición del rendimiento:**\n",
        "\n",
        "Dado que este proyecto aborda un problema de clustering (aprendizaje no supervisado), la evaluación del rendimiento se centrará en la calidad de las agrupaciones identificadas. Para ello, se utilizarán las siguientes métricas clave:\n",
        "\n",
        "- **Coeficiente de Silueta (Silhouette Coefficient)**: Esta métrica mide la cohesión interna de los clústeres y su separación de otros clústeres. Un valor cercano a +1 indica clústeres bien definidos y separados.\n",
        "\n",
        "- **Índice Davies-Bouldin**: Este índice evalúa la similitud promedio entre cada clúster y su clúster más similar. Un valor más bajo sugiere clústeres mejor separados y más compactos.\n",
        "\n",
        "- **Índice de Calinski-Harabasz (o Varianza Ratio Criterion)**: Mide la relación entre la dispersión entre los clústeres y la dispersión dentro de los clústeres. Un valor más alto indica una mejor estructura de los clústeres.\n",
        "\n",
        "En la fase inicial del proyecto, donde el objetivo es descubrir la estructura inherente de los datos sin conocimiento de los tipos de vino, las métricas principales para la evaluación interna de los modelos de clustering serán el Coeficiente de Silueta, el Índice Davies-Bouldin y el Índice de Calinski-Harabasz.\n",
        "\n",
        "Si en etapas posteriores se dispusiera de información sobre los tipos de vino, la Medida V y el AMI podrían utilizarse para evaluar la correspondencia entre los clústeres identificados y las categorías reales.\n",
        "\n",
        "La comparación de los valores de estas métricas entre diferentes algoritmos de clustering y sus configuraciones permitirá seleccionar el modelo que mejor capture la estructura subyacente en los datos de los vinos."
      ],
      "metadata": {
        "id": "HwAZ3oNKItSg"
      }
    }
  ]
}